{
 "cells": [
  {
   "cell_type": "code",
   "id": "initial_id",
   "metadata": {
    "collapsed": true,
    "ExecuteTime": {
     "end_time": "2025-05-26T15:33:31.204868Z",
     "start_time": "2025-05-26T15:33:31.199718Z"
    }
   },
   "source": [
    "import warnings\n",
    "\n",
    "warnings.filterwarnings(\"ignore\", category=UserWarning)"
   ],
   "outputs": [],
   "execution_count": 1
  },
  {
   "metadata": {
    "ExecuteTime": {
     "end_time": "2025-05-26T15:33:34.866894Z",
     "start_time": "2025-05-26T15:33:31.212887Z"
    }
   },
   "cell_type": "code",
   "source": [
    "import os\n",
    "import json\n",
    "import torch\n",
    "import pandas as pd\n",
    "import numpy as np\n",
    "from matplotlib import pyplot as plt\n",
    "from sklearn.decomposition import PCA\n",
    "\n",
    "from collections import Counter\n",
    "import plotly.graph_objs as go\n",
    "\n",
    "from preprocessing.cleaning.text_cleaning import process_text_tokens, process_text\n",
    "from preprocessing.vocabularies.glove_embeddings import prepare_glove_embeddings, load_glove_embeddings\n",
    "\n",
    "\n",
    "%load_ext autoreload\n",
    "%autoreload 2"
   ],
   "id": "488bb85ccf03673e",
   "outputs": [],
   "execution_count": 2
  },
  {
   "metadata": {
    "ExecuteTime": {
     "end_time": "2025-05-26T15:33:36.782012Z",
     "start_time": "2025-05-26T15:33:35.136843Z"
    }
   },
   "cell_type": "code",
   "source": [
    "init_train_df = pd.read_csv(\"../data/raw/quora_question_pairs_train.csv.zip\", compression='zip', index_col=0)\n",
    "init_test_df = pd.read_csv(\"../data/raw/quora_question_pairs_test.csv.zip\", compression='zip', index_col=0)"
   ],
   "id": "7e835c589045ed45",
   "outputs": [],
   "execution_count": 3
  },
  {
   "metadata": {
    "ExecuteTime": {
     "end_time": "2025-05-26T15:33:37.007576Z",
     "start_time": "2025-05-26T15:33:36.797861Z"
    }
   },
   "cell_type": "code",
   "source": [
    "df_train = init_train_df.copy()\n",
    "df_test = init_test_df.copy()"
   ],
   "id": "298ccb6987442e7c",
   "outputs": [],
   "execution_count": 4
  },
  {
   "metadata": {},
   "cell_type": "markdown",
   "source": "## 1.  Побудова словника",
   "id": "27d867d01e902fe9"
  },
  {
   "metadata": {
    "ExecuteTime": {
     "end_time": "2025-05-26T15:33:37.249066Z",
     "start_time": "2025-05-26T15:33:37.026478Z"
    }
   },
   "cell_type": "code",
   "source": [
    "def build_vocab(texts, min_freq=2, max_size=50000):\n",
    "    counter = Counter()\n",
    "\n",
    "    for text in texts:\n",
    "        tokens = process_text_tokens(text)\n",
    "        assert isinstance(tokens, object)\n",
    "        counter.update(tokens)\n",
    "\n",
    "    vocab = {\"<PAD>\": 0, \"<UNK>\": 1}\n",
    "\n",
    "    for word, freq in counter.most_common():\n",
    "        if freq < min_freq:\n",
    "            continue\n",
    "        if len(vocab) >= max_size:\n",
    "            break\n",
    "        vocab[word] = len(vocab)\n",
    "\n",
    "    return vocab, counter"
   ],
   "id": "322529fd838f7439",
   "outputs": [],
   "execution_count": 5
  },
  {
   "metadata": {
    "ExecuteTime": {
     "end_time": "2025-05-26T15:33:37.450942Z",
     "start_time": "2025-05-26T15:33:37.266233Z"
    }
   },
   "cell_type": "code",
   "source": [
    "def save_vocab(vocab: dict, path: str = \"../registry/vocabularies/vocab.json\"):\n",
    "    os.makedirs(os.path.dirname(path), exist_ok=True)\n",
    "    with open(path, \"w\", encoding=\"utf-8\") as f:\n",
    "        json.dump(vocab, f, ensure_ascii=False, indent=2)"
   ],
   "id": "59c2a2ed1661c1a6",
   "outputs": [],
   "execution_count": 6
  },
  {
   "metadata": {
    "ExecuteTime": {
     "end_time": "2025-05-26T15:34:22.399484Z",
     "start_time": "2025-05-26T15:33:37.469553Z"
    }
   },
   "cell_type": "code",
   "source": [
    "all_texts = df_train['question1'].tolist() + df_train['question2'].tolist()\n",
    "vocab, word_freqs = build_vocab(all_texts, min_freq=2)"
   ],
   "id": "a53cdf5dc4bb05c",
   "outputs": [],
   "execution_count": 7
  },
  {
   "metadata": {
    "ExecuteTime": {
     "end_time": "2025-05-26T15:34:22.774522Z",
     "start_time": "2025-05-26T15:34:22.516893Z"
    }
   },
   "cell_type": "code",
   "source": "save_vocab(vocab)",
   "id": "d0c3001632fa57b4",
   "outputs": [],
   "execution_count": 8
  },
  {
   "metadata": {},
   "cell_type": "markdown",
   "source": "## 2. Підготуємо тензори",
   "id": "ccb5773950887313"
  },
  {
   "metadata": {
    "ExecuteTime": {
     "end_time": "2025-05-26T15:34:23.076295Z",
     "start_time": "2025-05-26T15:34:22.887975Z"
    }
   },
   "cell_type": "code",
   "source": [
    "def text_to_sequence(text: str, vocab: dict, max_len: int = 100) -> list:\n",
    "    tokens = process_text_tokens(text)\n",
    "    sequence = [vocab.get(token, vocab[\"<UNK>\"]) for token in tokens]\n",
    "    if len(sequence) < max_len:\n",
    "        sequence += [vocab[\"<PAD>\"]] * (max_len - len(sequence))\n",
    "    else:\n",
    "        sequence = sequence[:max_len]\n",
    "\n",
    "    return sequence"
   ],
   "id": "cb14e1db17f7fbc7",
   "outputs": [],
   "execution_count": 9
  },
  {
   "metadata": {
    "ExecuteTime": {
     "end_time": "2025-05-26T15:34:23.380467Z",
     "start_time": "2025-05-26T15:34:23.193939Z"
    }
   },
   "cell_type": "code",
   "source": "MAX_LEN = 50",
   "id": "c99cc784a9d81db0",
   "outputs": [],
   "execution_count": 10
  },
  {
   "metadata": {
    "ExecuteTime": {
     "end_time": "2025-05-26T16:16:22.483416Z",
     "start_time": "2025-05-26T16:15:30.216202Z"
    }
   },
   "cell_type": "code",
   "source": [
    "q1_seq_train = [text_to_sequence(q, vocab, max_len=MAX_LEN) for q in df_train[\"question1\"]]\n",
    "q2_seq_train = [text_to_sequence(q, vocab, max_len=MAX_LEN) for q in df_train[\"question2\"]]\n",
    "y = torch.tensor(df_train[\"is_duplicate\"].values, dtype=torch.float32)\n",
    "\n",
    "X_q1_train= torch.tensor(q1_seq_train, dtype=torch.long)\n",
    "X_q2_train = torch.tensor(q2_seq_train, dtype=torch.long)"
   ],
   "id": "2d013a205ccfae08",
   "outputs": [],
   "execution_count": 30
  },
  {
   "metadata": {
    "ExecuteTime": {
     "end_time": "2025-05-26T16:16:47.387832Z",
     "start_time": "2025-05-26T16:16:46.723993Z"
    }
   },
   "cell_type": "code",
   "source": [
    "prep_data_dir = \"../registry/datasets\"\n",
    "os.makedirs(prep_data_dir, exist_ok=True)\n",
    "\n",
    "torch.save({\n",
    "    \"X_q1\": X_q1_train,\n",
    "    \"X_q2\": X_q2_train,\n",
    "    \"y\": y\n",
    "}, f\"{prep_data_dir}/quora_train_dataset.pt\")"
   ],
   "id": "50662d4216a88500",
   "outputs": [],
   "execution_count": 31
  },
  {
   "metadata": {
    "ExecuteTime": {
     "end_time": "2025-05-26T16:17:00.968190Z",
     "start_time": "2025-05-26T16:16:48.275840Z"
    }
   },
   "cell_type": "code",
   "source": [
    "q1_seq_test = [text_to_sequence(q, vocab, max_len=MAX_LEN) for q in df_test[\"question1\"]]\n",
    "q2_seq_test = [text_to_sequence(q, vocab, max_len=MAX_LEN) for q in df_test[\"question2\"]]\n",
    "y = torch.tensor(df_test[\"is_duplicate\"].values, dtype=torch.float32)\n",
    "\n",
    "X_q1_test= torch.tensor(q1_seq_test, dtype=torch.long)\n",
    "X_q2_test = torch.tensor(q2_seq_test, dtype=torch.long)"
   ],
   "id": "96f0b3818b56a50f",
   "outputs": [],
   "execution_count": 32
  },
  {
   "metadata": {
    "ExecuteTime": {
     "end_time": "2025-05-26T16:17:07.548619Z",
     "start_time": "2025-05-26T16:17:07.216952Z"
    }
   },
   "cell_type": "code",
   "source": [
    "torch.save({\n",
    "    \"X_q1\": X_q1_test,\n",
    "    \"X_q2\": X_q2_test,\n",
    "    \"y\": y\n",
    "}, f\"{prep_data_dir}/quora_test_dataset.pt\")"
   ],
   "id": "5537bf3ac18c9f56",
   "outputs": [],
   "execution_count": 33
  },
  {
   "metadata": {},
   "cell_type": "markdown",
   "source": "## 3. Векторизація",
   "id": "9e0ba44aaef2345e"
  },
  {
   "metadata": {
    "ExecuteTime": {
     "end_time": "2025-05-26T15:35:12.908892Z",
     "start_time": "2025-05-26T15:35:12.721955Z"
    }
   },
   "cell_type": "code",
   "source": "embedding_dim = 300",
   "id": "4e533242f692e336",
   "outputs": [],
   "execution_count": 13
  },
  {
   "metadata": {
    "ExecuteTime": {
     "end_time": "2025-05-26T15:35:13.219436Z",
     "start_time": "2025-05-26T15:35:13.028193Z"
    }
   },
   "cell_type": "code",
   "source": [
    "glove_path = prepare_glove_embeddings(dims=embedding_dim,\n",
    "                                      target_dir=\"../registry/glove/\",\n",
    "                                      source=\"url\",\n",
    "                                      local_zip_path=\"../registry/glove/glove.6B.zip\")"
   ],
   "id": "393366091d947528",
   "outputs": [
    {
     "name": "stdout",
     "output_type": "stream",
     "text": [
      "The file was found: ../registry/glove/glove.6B.300d.txt\n"
     ]
    }
   ],
   "execution_count": 14
  },
  {
   "metadata": {
    "ExecuteTime": {
     "end_time": "2025-05-26T15:35:52.342506Z",
     "start_time": "2025-05-26T15:35:13.341233Z"
    }
   },
   "cell_type": "code",
   "source": "glove_embeddings = load_glove_embeddings(glove_path, embedding_dim)",
   "id": "d6bd1f13a5932819",
   "outputs": [],
   "execution_count": 15
  },
  {
   "metadata": {
    "ExecuteTime": {
     "end_time": "2025-05-26T15:35:52.920632Z",
     "start_time": "2025-05-26T15:35:52.730847Z"
    }
   },
   "cell_type": "code",
   "source": "len(glove_embeddings)",
   "id": "5f7e2f2b2929a159",
   "outputs": [
    {
     "data": {
      "text/plain": [
       "400000"
      ]
     },
     "execution_count": 16,
     "metadata": {},
     "output_type": "execute_result"
    }
   ],
   "execution_count": 16
  },
  {
   "metadata": {
    "ExecuteTime": {
     "end_time": "2025-05-26T15:35:53.470848Z",
     "start_time": "2025-05-26T15:35:53.289079Z"
    }
   },
   "cell_type": "code",
   "source": "glove_embeddings.get('what')[:10]",
   "id": "2c586e98e5c1e142",
   "outputs": [
    {
     "data": {
      "text/plain": [
       "array([-2.0017e-01,  1.4302e-01,  5.2055e-02, -8.0884e-04,  1.7009e-02,\n",
       "        1.4899e-02, -2.5524e-01, -1.7907e-01, -4.6713e-02, -2.0547e+00],\n",
       "      dtype=float32)"
      ]
     },
     "execution_count": 17,
     "metadata": {},
     "output_type": "execute_result"
    }
   ],
   "execution_count": 17
  },
  {
   "metadata": {},
   "cell_type": "markdown",
   "source": "### Подивимось як GloVe репрезентує контекст досліджуваних новин",
   "id": "585d182e20595c53"
  },
  {
   "metadata": {
    "ExecuteTime": {
     "end_time": "2025-05-26T15:38:49.998997Z",
     "start_time": "2025-05-26T15:35:53.833807Z"
    }
   },
   "cell_type": "code",
   "source": [
    "top_n = 70\n",
    "title_tokens = []\n",
    "\n",
    "for title in df_train['question1']:\n",
    "    tokens = process_text(title)\n",
    "    title_tokens.extend(tokens)\n",
    "\n",
    "word_counts = Counter(title_tokens)\n",
    "most_common_words = [word for word, _ in word_counts.most_common(top_n)]"
   ],
   "id": "794fae68e76e152f",
   "outputs": [],
   "execution_count": 18
  },
  {
   "metadata": {
    "ExecuteTime": {
     "end_time": "2025-05-26T15:38:51.089075Z",
     "start_time": "2025-05-26T15:38:50.907573Z"
    }
   },
   "cell_type": "code",
   "source": [
    "found_vectors = []\n",
    "found_words = []\n",
    "\n",
    "for word in most_common_words:\n",
    "    if word in glove_embeddings:\n",
    "        found_vectors.append(glove_embeddings[word])\n",
    "        found_words.append(word)"
   ],
   "id": "1b262d5570170803",
   "outputs": [],
   "execution_count": 19
  },
  {
   "metadata": {
    "ExecuteTime": {
     "end_time": "2025-05-26T15:38:51.284959Z",
     "start_time": "2025-05-26T15:38:51.095076Z"
    }
   },
   "cell_type": "code",
   "source": [
    "vectors = np.stack(found_vectors)\n",
    "pca = PCA(n_components=2)\n",
    "reduced = pca.fit_transform(vectors)"
   ],
   "id": "6b3378e366e6ff46",
   "outputs": [],
   "execution_count": 20
  },
  {
   "metadata": {
    "ExecuteTime": {
     "end_time": "2025-05-26T15:38:52.734087Z",
     "start_time": "2025-05-26T15:38:51.717666Z"
    }
   },
   "cell_type": "code",
   "source": [
    "plt.figure(figsize=(12, 9))\n",
    "for i, word in enumerate(found_words):\n",
    "    x, y = reduced[i]\n",
    "    plt.scatter(x, y)\n",
    "    plt.text(x + 0.01, y + 0.01, word, fontsize=10)\n",
    "\n",
    "plt.title(f\"2D-проекція GloVe для топ-{top_n} слів із заголовків\")\n",
    "plt.xlabel(\"PC1\")\n",
    "plt.ylabel(\"PC2\")\n",
    "plt.grid(True)\n",
    "plt.tight_layout()\n",
    "plt.show()"
   ],
   "id": "5854ea6671ae6102",
   "outputs": [
    {
     "data": {
      "text/plain": [
       "<Figure size 1200x900 with 1 Axes>"
      ],
      "image/png": "[encoded data removed]"
     },
     "metadata": {},
     "output_type": "display_data"
    }
   ],
   "execution_count": 21
  },
  {
   "metadata": {
    "ExecuteTime": {
     "end_time": "2025-05-26T15:38:53.345534Z",
     "start_time": "2025-05-26T15:38:53.152903Z"
    }
   },
   "cell_type": "code",
   "source": [
    "pca = PCA(n_components=3)\n",
    "reduced = pca.fit_transform(vectors)"
   ],
   "id": "79af97489346169",
   "outputs": [],
   "execution_count": 22
  },
  {
   "metadata": {
    "ExecuteTime": {
     "end_time": "2025-05-26T15:38:54.899172Z",
     "start_time": "2025-05-26T15:38:53.767001Z"
    }
   },
   "cell_type": "code",
   "source": [
    "fig = plt.figure(figsize=(12, 8))\n",
    "ax = fig.add_subplot(111, projection='3d')\n",
    "\n",
    "for i, word in enumerate(found_words):\n",
    "    x, y, z = reduced[i]\n",
    "    ax.scatter(x, y, z)\n",
    "    ax.text(x + 0.01, y + 0.01, z + 0.01, word, fontsize=10)\n",
    "\n",
    "ax.set_title(\"3D-проекція GloVe embedding-векторів\")\n",
    "ax.set_xlabel(\"PC1\")\n",
    "ax.set_ylabel(\"PC2\")\n",
    "ax.set_zlabel(\"PC3\")\n",
    "plt.tight_layout()\n",
    "plt.show()"
   ],
   "id": "2572f2e36a7cdb19",
   "outputs": [
    {
     "data": {
      "text/plain": [
       "<Figure size 1200x800 with 1 Axes>"
      ],
      "image/png": "[encoded data removed]"
     },
     "metadata": {},
     "output_type": "display_data"
    }
   ],
   "execution_count": 23
  },
  {
   "metadata": {
    "ExecuteTime": {
     "end_time": "2025-05-26T15:38:55.892444Z",
     "start_time": "2025-05-26T15:38:55.327545Z"
    }
   },
   "cell_type": "code",
   "source": [
    "fig = go.Figure(data=[\n",
    "    go.Scatter3d(\n",
    "        x=reduced[:, 0],\n",
    "        y=reduced[:, 1],\n",
    "        z=reduced[:, 2],\n",
    "        mode='markers+text',\n",
    "        text=found_words,\n",
    "        textposition=\"top center\",\n",
    "        marker=dict(size=5, color='blue'),\n",
    "    )\n",
    "])\n",
    "\n",
    "fig.update_layout(\n",
    "    title=\"3D-проекція GloVe embedding-векторів\",\n",
    "    scene=dict(\n",
    "        xaxis_title='PC1',\n",
    "        yaxis_title='PC2',\n",
    "        zaxis_title='PC3'\n",
    "    ),\n",
    "    margin=dict(l=0, r=0, b=0, t=40)\n",
    ")\n",
    "\n",
    "fig.show()"
   ],
   "id": "970bdd10b1b261ed",
   "outputs": [
    {
     "data": {
      "application/vnd.plotly.v1+json": {
       "data": [
        {
         "marker": {
          "color": "blue",
          "size": 5
         },
         "mode": "markers+text",
         "text": [
          "best",
          "get",
          "india",
          "like",
          "people",
          "good",
          "way",
          "would",
          "one",
          "make",
          "difference",
          "quora",
          "time",
          "life",
          "money",
          "know",
          "year",
          "whats",
          "question",
          "thing",
          "learn",
          "indian",
          "much",
          "someone",
          "new",
          "many",
          "use",
          "think",
          "book",
          "work",
          "trump",
          "find",
          "day",
          "ever",
          "movie",
          "without",
          "job",
          "u",
          "world",
          "online",
          "become",
          "mean",
          "start",
          "want",
          "girl",
          "better",
          "first",
          "note",
          "company",
          "english",
          "take",
          "love",
          "feel",
          "number",
          "2016",
          "phone",
          "could",
          "account",
          "dont",
          "go",
          "possible",
          "country",
          "language",
          "person",
          "woman",
          "engineering",
          "500",
          "student",
          "1000",
          "really"
         ],
         "textposition": "top center",
         "x": {
          "dtype": "f4",
          "bdata": "jkfLvjIe/r+vNDVAOCegv7qnHb813Oq/Mge0v8Dtkb/S7o29Zraqv/xzsr5k3mJAmtPLvuWsGr+JpyC/7SMOwOLJTD9hxuA/b7kDv/AqEMBdfzm/tiJBQK4go7/JZtq/xUk1P1IlBr6iGQA+Lo8hwHV2PD9a6A6/bK6fP+8Lp7+du18+W+Mjv/GSbb7NXwO/bR9Lv5UEAUC9uRQ/sJHIP/7ITr5fIE6/TTdcvX7TCMAEnwA+MfXSv6Pydj+s6V8/2kWoP2KO4D8B+G+/YfWJvxD3FMAlxag/CPc0QMGOOj+5y6C/9u57P/2UOz0wCLO/UfsKvjqPFz4LOsg/eDPnvgpjFT2QQDRA4VEgQBLEzD9EsnRA7cEvwA=="
         },
         "y": {
          "dtype": "f4",
          "bdata": "Shtvv/PfgT7tT+G/CTiovZ68Fr9SRsq94pKbvop6VL//rpS/eaTavgrFhT/x14hAGnyHv1gdhL+vG9C+YkunPy5S278xFq9AvU0WPySelD/4nXw/elrfv4uRHb/hZn4/NPO/vxjCmr/vWDO/FJdzPzaTVb/kmHq/K2EGQMU5Aj7PjZ2/qYL0vvaJzL7e2ry+KV6cvhVpFUAcy/u/2W2GvlJob7+pu4k/JX9IvrnkWj+uLE0+qzn6vWFKy7+4k8o+MRmcvzpDSr+QGKi+V3wRP+X1lD9S1Za/OF29PwgELT4LRUK/IJvTvuLGqUBXau0+ouQLv+Hxvr+FgOi+Oy68Pds3IL8JPlW+zx4Lv4F/E7/5beA+3CuVPw=="
         },
         "z": {
          "dtype": "f4",
          "bdata": "b/ezPkxjJL/zIuw+5XaPPiyWej6kP/Y9jqusvkoC2L+OrWM+28dLv34I2LtsXTU+ogtOvwGcgD/iXYS/so/HPvRowr/Q9ZO+FiQrPoAkFD999lw/YfjfP38xIr/PqYg/1pAvv6+urb51A2e/rmhCvrLW2z9BiB+/9OfTvjBqQT4LowW/pT03vaY8EEAWNhq/Fq4qv10Wbj8Eyzm/Qq2kPivz+b3/fB6/IZ67v5bFAL/lN2ZAPao4v+joDr6XT/E+/laFv056HEDkYIi/6SUZQFzdCz818g+/DENTwG3KYD6eiLK/IXF5vhXjSL9WPVO/oj6tv705Jb9agypAvrOdP92pRkAcVFO/IYnMv3GByT823Ye/3fHNPg=="
         },
         "type": "scatter3d"
        }
       ],
       "layout": {
        "template": {
         "data": {
          "histogram2dcontour": [
           {
            "type": "histogram2dcontour",
            "colorbar": {
             "outlinewidth": 0,
             "ticks": ""
            },
            "colorscale": [
             [
              0.0,
              "#0d0887"
             ],
             [
              0.1111111111111111,
              "#46039f"
             ],
             [
              0.2222222222222222,
              "#7201a8"
             ],
             [
              0.3333333333333333,
              "#9c179e"
             ],
             [
              0.4444444444444444,
              "#bd3786"
             ],
             [
              0.5555555555555556,
              "#d8576b"
             ],
             [
              0.6666666666666666,
              "#ed7953"
             ],
             [
              0.7777777777777778,
              "#fb9f3a"
             ],
             [
              0.8888888888888888,
              "#fdca26"
             ],
             [
              1.0,
              "#f0f921"
             ]
            ]
           }
          ],
          "choropleth": [
           {
            "type": "choropleth",
            "colorbar": {
             "outlinewidth": 0,
             "ticks": ""
            }
           }
          ],
          "histogram2d": [
           {
            "type": "histogram2d",
            "colorbar": {
             "outlinewidth": 0,
             "ticks": ""
            },
            "colorscale": [
             [
              0.0,
              "#0d0887"
             ],
             [
              0.1111111111111111,
              "#46039f"
             ],
             [
              0.2222222222222222,
              "#7201a8"
             ],
             [
              0.3333333333333333,
              "#9c179e"
             ],
             [
              0.4444444444444444,
              "#bd3786"
             ],
             [
              0.5555555555555556,
              "#d8576b"
             ],
             [
              0.6666666666666666,
              "#ed7953"
             ],
             [
              0.7777777777777778,
              "#fb9f3a"
             ],
             [
              0.8888888888888888,
              "#fdca26"
             ],
             [
              1.0,
              "#f0f921"
             ]
            ]
           }
          ],
          "heatmap": [
           {
            "type": "heatmap",
            "colorbar": {
             "outlinewidth": 0,
             "ticks": ""
            },
            "colorscale": [
             [
              0.0,
              "#0d0887"
             ],
             [
              0.1111111111111111,
              "#46039f"
             ],
             [
              0.2222222222222222,
              "#7201a8"
             ],
             [
              0.3333333333333333,
              "#9c179e"
             ],
             [
              0.4444444444444444,
              "#bd3786"
             ],
             [
              0.5555555555555556,
              "#d8576b"
             ],
             [
              0.6666666666666666,
              "#ed7953"
             ],
             [
              0.7777777777777778,
              "#fb9f3a"
             ],
             [
              0.8888888888888888,
              "#fdca26"
             ],
             [
              1.0,
              "#f0f921"
             ]
            ]
           }
          ],
          "contourcarpet": [
           {
            "type": "contourcarpet",
            "colorbar": {
             "outlinewidth": 0,
             "ticks": ""
            }
           }
          ],
          "contour": [
           {
            "type": "contour",
            "colorbar": {
             "outlinewidth": 0,
             "ticks": ""
            },
            "colorscale": [
             [
              0.0,
              "#0d0887"
             ],
             [
              0.1111111111111111,
              "#46039f"
             ],
             [
              0.2222222222222222,
              "#7201a8"
             ],
             [
              0.3333333333333333,
              "#9c179e"
             ],
             [
              0.4444444444444444,
              "#bd3786"
             ],
             [
              0.5555555555555556,
              "#d8576b"
             ],
             [
              0.6666666666666666,
              "#ed7953"
             ],
             [
              0.7777777777777778,
              "#fb9f3a"
             ],
             [
              0.8888888888888888,
              "#fdca26"
             ],
             [
              1.0,
              "#f0f921"
             ]
            ]
           }
          ],
          "surface": [
           {
            "type": "surface",
            "colorbar": {
             "outlinewidth": 0,
             "ticks": ""
            },
            "colorscale": [
             [
              0.0,
              "#0d0887"
             ],
             [
              0.1111111111111111,
              "#46039f"
             ],
             [
              0.2222222222222222,
              "#7201a8"
             ],
             [
              0.3333333333333333,
              "#9c179e"
             ],
             [
              0.4444444444444444,
              "#bd3786"
             ],
             [
              0.5555555555555556,
              "#d8576b"
             ],
             [
              0.6666666666666666,
              "#ed7953"
             ],
             [
              0.7777777777777778,
              "#fb9f3a"
             ],
             [
              0.8888888888888888,
              "#fdca26"
             ],
             [
              1.0,
              "#f0f921"
             ]
            ]
           }
          ],
          "mesh3d": [
           {
            "type": "mesh3d",
            "colorbar": {
             "outlinewidth": 0,
             "ticks": ""
            }
           }
          ],
          "scatter": [
           {
            "marker": {
             "line": {
              "color": "#283442"
             }
            },
            "type": "scatter"
           }
          ],
          "parcoords": [
           {
            "type": "parcoords",
            "line": {
             "colorbar": {
              "outlinewidth": 0,
              "ticks": ""
             }
            }
           }
          ],
          "scatterpolargl": [
           {
            "type": "scatterpolargl",
            "marker": {
             "colorbar": {
              "outlinewidth": 0,
              "ticks": ""
             }
            }
           }
          ],
          "bar": [
           {
            "error_x": {
             "color": "#f2f5fa"
            },
            "error_y": {
             "color": "#f2f5fa"
            },
            "marker": {
             "line": {
              "color": "rgb(17,17,17)",
              "width": 0.5
             },
             "pattern": {
              "fillmode": "overlay",
              "size": 10,
              "solidity": 0.2
             }
            },
            "type": "bar"
           }
          ],
          "scattergeo": [
           {
            "type": "scattergeo",
            "marker": {
             "colorbar": {
              "outlinewidth": 0,
              "ticks": ""
             }
            }
           }
          ],
          "scatterpolar": [
           {
            "type": "scatterpolar",
            "marker": {
             "colorbar": {
              "outlinewidth": 0,
              "ticks": ""
             }
            }
           }
          ],
          "histogram": [
           {
            "marker": {
             "pattern": {
              "fillmode": "overlay",
              "size": 10,
              "solidity": 0.2
             }
            },
            "type": "histogram"
           }
          ],
          "scattergl": [
           {
            "marker": {
             "line": {
              "color": "#283442"
             }
            },
            "type": "scattergl"
           }
          ],
          "scatter3d": [
           {
            "type": "scatter3d",
            "line": {
             "colorbar": {
              "outlinewidth": 0,
              "ticks": ""
             }
            },
            "marker": {
             "colorbar": {
              "outlinewidth": 0,
              "ticks": ""
             }
            }
           }
          ],
          "scattermap": [
           {
            "type": "scattermap",
            "marker": {
             "colorbar": {
              "outlinewidth": 0,
              "ticks": ""
             }
            }
           }
          ],
          "scattermapbox": [
           {
            "type": "scattermapbox",
            "marker": {
             "colorbar": {
              "outlinewidth": 0,
              "ticks": ""
             }
            }
           }
          ],
          "scatterternary": [
           {
            "type": "scatterternary",
            "marker": {
             "colorbar": {
              "outlinewidth": 0,
              "ticks": ""
             }
            }
           }
          ],
          "scattercarpet": [
           {
            "type": "scattercarpet",
            "marker": {
             "colorbar": {
              "outlinewidth": 0,
              "ticks": ""
             }
            }
           }
          ],
          "carpet": [
           {
            "aaxis": {
             "endlinecolor": "#A2B1C6",
             "gridcolor": "#506784",
             "linecolor": "#506784",
             "minorgridcolor": "#506784",
             "startlinecolor": "#A2B1C6"
            },
            "baxis": {
             "endlinecolor": "#A2B1C6",
             "gridcolor": "#506784",
             "linecolor": "#506784",
             "minorgridcolor": "#506784",
             "startlinecolor": "#A2B1C6"
            },
            "type": "carpet"
           }
          ],
          "table": [
           {
            "cells": {
             "fill": {
              "color": "#506784"
             },
             "line": {
              "color": "rgb(17,17,17)"
             }
            },
            "header": {
             "fill": {
              "color": "#2a3f5f"
             },
             "line": {
              "color": "rgb(17,17,17)"
             }
            },
            "type": "table"
           }
          ],
          "barpolar": [
           {
            "marker": {
             "line": {
              "color": "rgb(17,17,17)",
              "width": 0.5
             },
             "pattern": {
              "fillmode": "overlay",
              "size": 10,
              "solidity": 0.2
             }
            },
            "type": "barpolar"
           }
          ],
          "pie": [
           {
            "automargin": true,
            "type": "pie"
           }
          ]
         },
         "layout": {
          "autotypenumbers": "strict",
          "colorway": [
           "#636efa",
           "#EF553B",
           "#00cc96",
           "#ab63fa",
           "#FFA15A",
           "#19d3f3",
           "#FF6692",
           "#B6E880",
           "#FF97FF",
           "#FECB52"
          ],
          "font": {
           "color": "#f2f5fa"
          },
          "hovermode": "closest",
          "hoverlabel": {
           "align": "left"
          },
          "paper_bgcolor": "rgb(17,17,17)",
          "plot_bgcolor": "rgb(17,17,17)",
          "polar": {
           "bgcolor": "rgb(17,17,17)",
           "angularaxis": {
            "gridcolor": "#506784",
            "linecolor": "#506784",
            "ticks": ""
           },
           "radialaxis": {
            "gridcolor": "#506784",
            "linecolor": "#506784",
            "ticks": ""
           }
          },
          "ternary": {
           "bgcolor": "rgb(17,17,17)",
           "aaxis": {
            "gridcolor": "#506784",
            "linecolor": "#506784",
            "ticks": ""
           },
           "baxis": {
            "gridcolor": "#506784",
            "linecolor": "#506784",
            "ticks": ""
           },
           "caxis": {
            "gridcolor": "#506784",
            "linecolor": "#506784",
            "ticks": ""
           }
          },
          "coloraxis": {
           "colorbar": {
            "outlinewidth": 0,
            "ticks": ""
           }
          },
          "colorscale": {
           "sequential": [
            [
             0.0,
             "#0d0887"
            ],
            [
             0.1111111111111111,
             "#46039f"
            ],
            [
             0.2222222222222222,
             "#7201a8"
            ],
            [
             0.3333333333333333,
             "#9c179e"
            ],
            [
             0.4444444444444444,
             "#bd3786"
            ],
            [
             0.5555555555555556,
             "#d8576b"
            ],
            [
             0.6666666666666666,
             "#ed7953"
            ],
            [
             0.7777777777777778,
             "#fb9f3a"
            ],
            [
             0.8888888888888888,
             "#fdca26"
            ],
            [
             1.0,
             "#f0f921"
            ]
           ],
           "sequentialminus": [
            [
             0.0,
             "#0d0887"
            ],
            [
             0.1111111111111111,
             "#46039f"
            ],
            [
             0.2222222222222222,
             "#7201a8"
            ],
            [
             0.3333333333333333,
             "#9c179e"
            ],
            [
             0.4444444444444444,
             "#bd3786"
            ],
            [
             0.5555555555555556,
             "#d8576b"
            ],
            [
             0.6666666666666666,
             "#ed7953"
            ],
            [
             0.7777777777777778,
             "#fb9f3a"
            ],
            [
             0.8888888888888888,
             "#fdca26"
            ],
            [
             1.0,
             "#f0f921"
            ]
           ],
           "diverging": [
            [
             0,
             "#8e0152"
            ],
            [
             0.1,
             "#c51b7d"
            ],
            [
             0.2,
             "#de77ae"
            ],
            [
             0.3,
             "#f1b6da"
            ],
            [
             0.4,
             "#fde0ef"
            ],
            [
             0.5,
             "#f7f7f7"
            ],
            [
             0.6,
             "#e6f5d0"
            ],
            [
             0.7,
             "#b8e186"
            ],
            [
             0.8,
             "#7fbc41"
            ],
            [
             0.9,
             "#4d9221"
            ],
            [
             1,
             "#276419"
            ]
           ]
          },
          "xaxis": {
           "gridcolor": "#283442",
           "linecolor": "#506784",
           "ticks": "",
           "title": {
            "standoff": 15
           },
           "zerolinecolor": "#283442",
           "automargin": true,
           "zerolinewidth": 2
          },
          "yaxis": {
           "gridcolor": "#283442",
           "linecolor": "#506784",
           "ticks": "",
           "title": {
            "standoff": 15
           },
           "zerolinecolor": "#283442",
           "automargin": true,
           "zerolinewidth": 2
          },
          "scene": {
           "xaxis": {
            "backgroundcolor": "rgb(17,17,17)",
            "gridcolor": "#506784",
            "linecolor": "#506784",
            "showbackground": true,
            "ticks": "",
            "zerolinecolor": "#C8D4E3",
            "gridwidth": 2
           },
           "yaxis": {
            "backgroundcolor": "rgb(17,17,17)",
            "gridcolor": "#506784",
            "linecolor": "#506784",
            "showbackground": true,
            "ticks": "",
            "zerolinecolor": "#C8D4E3",
            "gridwidth": 2
           },
           "zaxis": {
            "backgroundcolor": "rgb(17,17,17)",
            "gridcolor": "#506784",
            "linecolor": "#506784",
            "showbackground": true,
            "ticks": "",
            "zerolinecolor": "#C8D4E3",
            "gridwidth": 2
           }
          },
          "shapedefaults": {
           "line": {
            "color": "#f2f5fa"
           }
          },
          "annotationdefaults": {
           "arrowcolor": "#f2f5fa",
           "arrowhead": 0,
           "arrowwidth": 1
          },
          "geo": {
           "bgcolor": "rgb(17,17,17)",
           "landcolor": "rgb(17,17,17)",
           "subunitcolor": "#506784",
           "showland": true,
           "showlakes": true,
           "lakecolor": "rgb(17,17,17)"
          },
          "title": {
           "x": 0.05
          },
          "updatemenudefaults": {
           "bgcolor": "#506784",
           "borderwidth": 0
          },
          "sliderdefaults": {
           "bgcolor": "#C8D4E3",
           "borderwidth": 1,
           "bordercolor": "rgb(17,17,17)",
           "tickwidth": 0
          },
          "mapbox": {
           "style": "dark"
          }
         }
        },
        "margin": {
         "l": 0,
         "r": 0,
         "b": 0,
         "t": 40
        },
        "title": {
         "text": "3D-проекція GloVe embedding-векторів"
        },
        "scene": {
         "xaxis": {
          "title": {
           "text": "PC1"
          }
         },
         "yaxis": {
          "title": {
           "text": "PC2"
          }
         },
         "zaxis": {
          "title": {
           "text": "PC3"
          }
         }
        }
       },
       "config": {
        "plotlyServerURL": "https://plot.ly"
       }
      }
     },
     "metadata": {},
     "output_type": "display_data"
    }
   ],
   "execution_count": 24
  },
  {
   "metadata": {
    "ExecuteTime": {
     "end_time": "2025-05-26T15:38:56.663566Z",
     "start_time": "2025-05-26T15:38:56.456852Z"
    }
   },
   "cell_type": "code",
   "source": [
    "def build_embedding_matrix(vocab: dict, glove_embeddings: dict, embedding_dim: int) -> torch.Tensor:\n",
    "    vocab_size = len(vocab)\n",
    "    embedding_matrix = np.zeros((vocab_size, embedding_dim))\n",
    "\n",
    "    found = 0\n",
    "    for word, idx in vocab.items():\n",
    "        if word in glove_embeddings:\n",
    "            embedding_matrix[idx] = glove_embeddings[word]\n",
    "            found += 1\n",
    "        else:\n",
    "            embedding_matrix[idx] = np.random.normal(scale=0.6, size=(embedding_dim,))\n",
    "\n",
    "    if \"<PAD>\" in vocab:\n",
    "        embedding_matrix[vocab[\"<PAD>\"]] = np.zeros(embedding_dim)\n",
    "\n",
    "    print(f\"Знайдено {found} з {vocab_size} слів у GloVe ({found / vocab_size:.2%})\")\n",
    "    return torch.tensor(embedding_matrix, dtype=torch.float32)\n"
   ],
   "id": "5bdf271a7b8ce335",
   "outputs": [],
   "execution_count": 25
  },
  {
   "metadata": {
    "ExecuteTime": {
     "end_time": "2025-05-26T15:38:57.605893Z",
     "start_time": "2025-05-26T15:38:57.115814Z"
    }
   },
   "cell_type": "code",
   "source": "embedding_matrix = build_embedding_matrix(vocab, glove_embeddings, embedding_dim)",
   "id": "96792e34799ff66c",
   "outputs": [
    {
     "name": "stdout",
     "output_type": "stream",
     "text": [
      "Знайдено 39914 з 50000 слів у GloVe (79.83%)\n"
     ]
    }
   ],
   "execution_count": 26
  },
  {
   "metadata": {
    "ExecuteTime": {
     "end_time": "2025-05-26T15:38:58.299056Z",
     "start_time": "2025-05-26T15:38:58.098167Z"
    }
   },
   "cell_type": "code",
   "source": "embedding_matrix.shape",
   "id": "b20d595d2454e40f",
   "outputs": [
    {
     "data": {
      "text/plain": [
       "torch.Size([50000, 300])"
      ]
     },
     "execution_count": 27,
     "metadata": {},
     "output_type": "execute_result"
    }
   ],
   "execution_count": 27
  },
  {
   "metadata": {
    "ExecuteTime": {
     "end_time": "2025-05-26T15:38:59.020926Z",
     "start_time": "2025-05-26T15:38:58.805201Z"
    }
   },
   "cell_type": "code",
   "source": [
    "embeddings_dir = \"../registry/embeddings\"\n",
    "os.makedirs(embeddings_dir, exist_ok=True)"
   ],
   "id": "6d3e6e61f61b7e38",
   "outputs": [],
   "execution_count": 28
  },
  {
   "metadata": {
    "ExecuteTime": {
     "end_time": "2025-05-26T15:39:00.242387Z",
     "start_time": "2025-05-26T15:38:59.925611Z"
    }
   },
   "cell_type": "code",
   "source": "torch.save(embedding_matrix, f\"{embeddings_dir}/embedding_matrix.pt\")",
   "id": "93e441622caa15b0",
   "outputs": [],
   "execution_count": 29
  }
 ],
 "metadata": {
  "kernelspec": {
   "display_name": "Python 3",
   "language": "python",
   "name": "python3"
  },
  "language_info": {
   "codemirror_mode": {
    "name": "ipython",
    "version": 2
   },
   "file_extension": ".py",
   "mimetype": "text/x-python",
   "name": "python",
   "nbconvert_exporter": "python",
   "pygments_lexer": "ipython2",
   "version": "2.7.6"
  }
 },
 "nbformat": 4,
 "nbformat_minor": 5
}
