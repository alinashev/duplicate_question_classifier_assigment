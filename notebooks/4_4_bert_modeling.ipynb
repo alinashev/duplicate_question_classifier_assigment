{
 "cells": [
  {
   "metadata": {
    "ExecuteTime": {
     "end_time": "2025-06-03T20:31:46.321681Z",
     "start_time": "2025-06-03T20:31:46.316217Z"
    }
   },
   "cell_type": "code",
   "source": [
    "import warnings\n",
    "import logging\n",
    "\n",
    "from modeling.metrics.display import display_all_confusion_matrices, display_all_roc_curves\n",
    "from modeling.networks.dataset.quora_bert_dataset import QuestionDataset\n",
    "from modeling.networks.quora_duplicate_bert import DuplicateTextClassifier\n",
    "\n",
    "warnings.filterwarnings(\"ignore\")\n",
    "logging.disable(logging.WARNING)"
   ],
   "id": "2ca9d75fd4e06c6f",
   "outputs": [],
   "execution_count": 1
  },
  {
   "metadata": {
    "ExecuteTime": {
     "end_time": "2025-06-03T20:32:14.808970Z",
     "start_time": "2025-06-03T20:31:46.337300Z"
    }
   },
   "cell_type": "code",
   "source": [
    "import torch\n",
    "\n",
    "import pandas as pd\n",
    "import numpy as np\n",
    "\n",
    "from sklearn.model_selection import train_test_split\n",
    "from sklearn.metrics import f1_score, precision_score, recall_score, roc_auc_score\n",
    "\n",
    "from transformers import (\n",
    "    BertTokenizer,\n",
    "    BertModel,\n",
    "    Trainer,\n",
    "    TrainingArguments, DataCollatorWithPadding\n",
    ")"
   ],
   "id": "f6fa4b93c36329ad",
   "outputs": [],
   "execution_count": 2
  },
  {
   "metadata": {
    "ExecuteTime": {
     "end_time": "2025-06-03T20:32:15.249780Z",
     "start_time": "2025-06-03T20:32:15.214483Z"
    }
   },
   "cell_type": "code",
   "source": [
    "def choose_device():\n",
    "    return torch.device(\"cuda\" if torch.cuda.is_available() else \"cpu\")\n",
    "\n",
    "\n",
    "device = choose_device()\n",
    "device"
   ],
   "id": "4447a79d6fa399b9",
   "outputs": [
    {
     "data": {
      "text/plain": [
       "device(type='cuda')"
      ]
     },
     "execution_count": 3,
     "metadata": {},
     "output_type": "execute_result"
    }
   ],
   "execution_count": 3
  },
  {
   "metadata": {
    "ExecuteTime": {
     "end_time": "2025-06-03T20:32:16.409473Z",
     "start_time": "2025-06-03T20:32:15.346803Z"
    }
   },
   "cell_type": "code",
   "source": [
    "df_train = pd.read_csv(\"../data/raw/quora_question_pairs_train.csv.zip\", compression='zip', index_col=0)\n",
    "df_test = pd.read_csv(\"../data/raw/quora_question_pairs_test.csv.zip\", compression='zip', index_col=0)\n",
    "\n",
    "df_train.dropna(inplace=True)\n",
    "df_train.reset_index(inplace=True)"
   ],
   "id": "188ab01d9df01234",
   "outputs": [],
   "execution_count": 4
  },
  {
   "metadata": {
    "ExecuteTime": {
     "end_time": "2025-06-03T20:32:16.429504Z",
     "start_time": "2025-06-03T20:32:16.425388Z"
    }
   },
   "cell_type": "code",
   "source": "df_train.size",
   "id": "4a35cd1115d1c905",
   "outputs": [
    {
     "data": {
      "text/plain": [
       "1940574"
      ]
     },
     "execution_count": 5,
     "metadata": {},
     "output_type": "execute_result"
    }
   ],
   "execution_count": 5
  },
  {
   "metadata": {
    "ExecuteTime": {
     "end_time": "2025-06-03T20:32:16.458708Z",
     "start_time": "2025-06-03T20:32:16.454379Z"
    }
   },
   "cell_type": "code",
   "source": "df_test.size",
   "id": "791cc3d54ef2aa9a",
   "outputs": [
    {
     "data": {
      "text/plain": [
       "404290"
      ]
     },
     "execution_count": 6,
     "metadata": {},
     "output_type": "execute_result"
    }
   ],
   "execution_count": 6
  },
  {
   "metadata": {
    "ExecuteTime": {
     "end_time": "2025-06-03T20:32:18.245543Z",
     "start_time": "2025-06-03T20:32:16.487879Z"
    }
   },
   "cell_type": "code",
   "source": [
    "SAVE_DIR = \"../registry/bert/final_model\"\n",
    "tokenizer = BertTokenizer.from_pretrained('bert-base-uncased')\n",
    "bert_base = BertModel.from_pretrained('bert-base-uncased').to(device)"
   ],
   "id": "9daff29901d8b18",
   "outputs": [],
   "execution_count": 7
  },
  {
   "metadata": {
    "ExecuteTime": {
     "end_time": "2025-06-03T20:32:18.260962Z",
     "start_time": "2025-06-03T20:32:18.258224Z"
    }
   },
   "cell_type": "code",
   "source": [
    "def compute_metrics(pred):\n",
    "    labels = pred.label_ids\n",
    "    preds = np.argmax(pred.predictions, axis=1)\n",
    "    return {\n",
    "        \"f1\": f1_score(labels, preds),\n",
    "        \"precision\": precision_score(labels, preds),\n",
    "        \"recall\": recall_score(labels, preds),\n",
    "    }"
   ],
   "id": "3a003ac66302bfc6",
   "outputs": [],
   "execution_count": 8
  },
  {
   "metadata": {
    "ExecuteTime": {
     "end_time": "2025-06-04T03:48:10.673777Z",
     "start_time": "2025-06-03T20:32:18.278424Z"
    }
   },
   "cell_type": "code",
   "source": [
    "train_df, val_df = train_test_split(df_train, test_size=0.2, stratify=df_train['is_duplicate'], random_state=42)\n",
    "\n",
    "train_dataset = QuestionDataset(train_df['question1'].values, train_df['question2'].values,\n",
    "                                train_df['is_duplicate'].values, tokenizer)\n",
    "val_dataset = QuestionDataset(val_df['question1'].values, val_df['question2'].values,\n",
    "                              val_df['is_duplicate'].values, tokenizer)\n",
    "test_dataset = QuestionDataset(df_test['question1'].values,\n",
    "                               df_test['question2'].values,\n",
    "                               df_test['is_duplicate'].values,\n",
    "                               tokenizer)\n",
    "\n",
    "\n",
    "model = DuplicateTextClassifier(bert_base)\n",
    "\n",
    "training_args = TrainingArguments(\n",
    "    output_dir=SAVE_DIR,\n",
    "    learning_rate=2e-5,\n",
    "    per_device_train_batch_size=64,\n",
    "    per_device_eval_batch_size=64,\n",
    "    num_train_epochs=3,\n",
    "    weight_decay=0.01,\n",
    "    warmup_steps=500,\n",
    "    lr_scheduler_type=\"cosine\",\n",
    "    save_strategy=\"no\",\n",
    "    fp16=True,\n",
    "    report_to=[]\n",
    ")\n",
    "\n",
    "data_collator = DataCollatorWithPadding(tokenizer=tokenizer)\n",
    "\n",
    "trainer = Trainer(\n",
    "    model=model,\n",
    "    args=training_args,\n",
    "    train_dataset=train_dataset,\n",
    "    eval_dataset=val_dataset,\n",
    "    compute_metrics=compute_metrics,\n",
    "    data_collator=data_collator\n",
    ")\n",
    "\n",
    "trainer.train()"
   ],
   "id": "f3ad09c44e89554a",
   "outputs": [
    {
     "data": {
      "text/plain": [
       "<IPython.core.display.HTML object>"
      ],
      "text/html": [
       "\n",
       "    <div>\n",
       "      \n",
       "      <progress value='12129' max='12129' style='width:300px; height:20px; vertical-align: middle;'></progress>\n",
       "      [12129/12129 7:15:50, Epoch 3/3]\n",
       "    </div>\n",
       "    <table border=\"1\" class=\"dataframe\">\n",
       "  <thead>\n",
       " <tr style=\"text-align: left;\">\n",
       "      <th>Step</th>\n",
       "      <th>Training Loss</th>\n",
       "    </tr>\n",
       "  </thead>\n",
       "  <tbody>\n",
       "    <tr>\n",
       "      <td>500</td>\n",
       "      <td>0.515600</td>\n",
       "    </tr>\n",
       "    <tr>\n",
       "      <td>1000</td>\n",
       "      <td>0.380800</td>\n",
       "    </tr>\n",
       "    <tr>\n",
       "      <td>1500</td>\n",
       "      <td>0.334600</td>\n",
       "    </tr>\n",
       "    <tr>\n",
       "      <td>2000</td>\n",
       "      <td>0.316300</td>\n",
       "    </tr>\n",
       "    <tr>\n",
       "      <td>2500</td>\n",
       "      <td>0.301600</td>\n",
       "    </tr>\n",
       "    <tr>\n",
       "      <td>3000</td>\n",
       "      <td>0.288400</td>\n",
       "    </tr>\n",
       "    <tr>\n",
       "      <td>3500</td>\n",
       "      <td>0.283200</td>\n",
       "    </tr>\n",
       "    <tr>\n",
       "      <td>4000</td>\n",
       "      <td>0.276100</td>\n",
       "    </tr>\n",
       "    <tr>\n",
       "      <td>4500</td>\n",
       "      <td>0.220400</td>\n",
       "    </tr>\n",
       "    <tr>\n",
       "      <td>5000</td>\n",
       "      <td>0.209000</td>\n",
       "    </tr>\n",
       "    <tr>\n",
       "      <td>5500</td>\n",
       "      <td>0.216300</td>\n",
       "    </tr>\n",
       "    <tr>\n",
       "      <td>6000</td>\n",
       "      <td>0.207700</td>\n",
       "    </tr>\n",
       "    <tr>\n",
       "      <td>6500</td>\n",
       "      <td>0.207200</td>\n",
       "    </tr>\n",
       "    <tr>\n",
       "      <td>7000</td>\n",
       "      <td>0.203600</td>\n",
       "    </tr>\n",
       "    <tr>\n",
       "      <td>7500</td>\n",
       "      <td>0.203200</td>\n",
       "    </tr>\n",
       "    <tr>\n",
       "      <td>8000</td>\n",
       "      <td>0.201300</td>\n",
       "    </tr>\n",
       "    <tr>\n",
       "      <td>8500</td>\n",
       "      <td>0.153500</td>\n",
       "    </tr>\n",
       "    <tr>\n",
       "      <td>9000</td>\n",
       "      <td>0.141700</td>\n",
       "    </tr>\n",
       "    <tr>\n",
       "      <td>9500</td>\n",
       "      <td>0.143200</td>\n",
       "    </tr>\n",
       "    <tr>\n",
       "      <td>10000</td>\n",
       "      <td>0.147100</td>\n",
       "    </tr>\n",
       "    <tr>\n",
       "      <td>10500</td>\n",
       "      <td>0.145800</td>\n",
       "    </tr>\n",
       "    <tr>\n",
       "      <td>11000</td>\n",
       "      <td>0.143400</td>\n",
       "    </tr>\n",
       "    <tr>\n",
       "      <td>11500</td>\n",
       "      <td>0.144000</td>\n",
       "    </tr>\n",
       "    <tr>\n",
       "      <td>12000</td>\n",
       "      <td>0.143800</td>\n",
       "    </tr>\n",
       "  </tbody>\n",
       "</table><p>"
      ]
     },
     "metadata": {},
     "output_type": "display_data"
    },
    {
     "data": {
      "text/plain": [
       "TrainOutput(global_step=12129, training_loss=0.22926898383575295, metrics={'train_runtime': 26151.9729, 'train_samples_per_second': 29.681, 'train_steps_per_second': 0.464, 'total_flos': 0.0, 'train_loss': 0.22926898383575295, 'epoch': 3.0})"
      ]
     },
     "execution_count": 9,
     "metadata": {},
     "output_type": "execute_result"
    }
   ],
   "execution_count": 9
  },
  {
   "metadata": {
    "ExecuteTime": {
     "end_time": "2025-06-04T04:09:06.120813Z",
     "start_time": "2025-06-04T03:48:10.726606Z"
    }
   },
   "cell_type": "code",
   "source": [
    "def get_preds_labels_probs(dataset, name):\n",
    "    outputs = trainer.predict(dataset)\n",
    "    logits = outputs.predictions\n",
    "\n",
    "    y_probs = torch.softmax(torch.tensor(logits), dim=1).numpy()[:, 1]\n",
    "    y_pred = np.argmax(logits, axis=1)\n",
    "    y_true = np.array(dataset.labels)\n",
    "\n",
    "    print(f\"{name} - F1: {f1_score(y_true, y_pred):.4f}, ROC AUC: {roc_auc_score(y_true, y_probs):.4f}\")\n",
    "    return y_true, y_pred, y_probs\n",
    "\n",
    "\n",
    "train_y, train_pred, train_probs = get_preds_labels_probs(train_dataset, \"Train\")\n",
    "val_y, val_pred, val_probs = get_preds_labels_probs(val_dataset, \"Validation\")\n",
    "test_y, test_pred, test_probs = get_preds_labels_probs(test_dataset, \"Test\")\n",
    "\n",
    "display_all_confusion_matrices(train_y, val_y, test_y, train_pred, val_pred, test_pred)\n",
    "display_all_roc_curves(train_y, val_y, test_y, train_probs, val_probs, test_probs)\n"
   ],
   "id": "b26ec71bf368355",
   "outputs": [
    {
     "data": {
      "text/plain": [
       "<IPython.core.display.HTML object>"
      ],
      "text/html": []
     },
     "metadata": {},
     "output_type": "display_data"
    },
    {
     "name": "stdout",
     "output_type": "stream",
     "text": [
      "Train - F1: 0.9509, ROC AUC: 0.9915\n"
     ]
    },
    {
     "data": {
      "text/plain": [
       "<IPython.core.display.HTML object>"
      ],
      "text/html": []
     },
     "metadata": {},
     "output_type": "display_data"
    },
    {
     "name": "stdout",
     "output_type": "stream",
     "text": [
      "Validation - F1: 0.8705, ROC AUC: 0.9640\n"
     ]
    },
    {
     "data": {
      "text/plain": [
       "<IPython.core.display.HTML object>"
      ],
      "text/html": []
     },
     "metadata": {},
     "output_type": "display_data"
    },
    {
     "name": "stdout",
     "output_type": "stream",
     "text": [
      "Test - F1: 0.8695, ROC AUC: 0.9637\n"
     ]
    },
    {
     "data": {
      "text/plain": [
       "<Figure size 1800x500 with 3 Axes>"
      ],
      "image/png": "[encoded data removed]"
     },
     "metadata": {},
     "output_type": "display_data"
    },
    {
     "data": {
      "text/plain": [
       "<Figure size 800x600 with 1 Axes>"
      ],
      "image/png": "[encoded data removed]"
     },
     "metadata": {},
     "output_type": "display_data"
    }
   ],
   "execution_count": 10
  },
  {
   "metadata": {},
   "cell_type": "markdown",
   "source": "# Save Model & Tokenizer",
   "id": "c53fee997cf4b67e"
  },
  {
   "metadata": {
    "ExecuteTime": {
     "end_time": "2025-06-04T04:09:07.039709Z",
     "start_time": "2025-06-04T04:09:06.162372Z"
    }
   },
   "cell_type": "code",
   "source": [
    "trainer.save_model(SAVE_DIR)\n",
    "tokenizer.save_pretrained(SAVE_DIR)\n",
    "torch.save(model.state_dict(), f\"{SAVE_DIR}/pytorch_model.bin\")\n",
    "print(f\"Model and tokenizer saved to: {SAVE_DIR}\")"
   ],
   "id": "cd7f00dd9e08acb5",
   "outputs": [
    {
     "name": "stdout",
     "output_type": "stream",
     "text": [
      "Model and tokenizer saved to: ../registry/bert/final_model\n"
     ]
    }
   ],
   "execution_count": 11
  }
 ],
 "metadata": {
  "kernelspec": {
   "display_name": "Python 3",
   "language": "python",
   "name": "python3"
  },
  "language_info": {
   "codemirror_mode": {
    "name": "ipython",
    "version": 2
   },
   "file_extension": ".py",
   "mimetype": "text/x-python",
   "name": "python",
   "nbconvert_exporter": "python",
   "pygments_lexer": "ipython2",
   "version": "2.7.6"
  }
 },
 "nbformat": 4,
 "nbformat_minor": 5
}
