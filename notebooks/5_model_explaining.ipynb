{
 "cells": [
  {
   "metadata": {
    "ExecuteTime": {
     "end_time": "2025-06-04T07:10:52.310468Z",
     "start_time": "2025-06-04T07:10:52.300023Z"
    }
   },
   "cell_type": "code",
   "source": [
    "import warnings\n",
    "from modeling.networks.quora_duplicate_bert import DuplicateTextClassifier\n",
    "from transformers import BertModel, BertTokenizer\n",
    "import torch\n",
    "\n",
    "warnings.filterwarnings(\"ignore\")"
   ],
   "id": "b68ccc89b4c2a59b",
   "outputs": [],
   "execution_count": 2
  },
  {
   "metadata": {
    "ExecuteTime": {
     "end_time": "2025-06-04T07:01:16.930968Z",
     "start_time": "2025-06-04T07:01:16.918690Z"
    }
   },
   "cell_type": "code",
   "source": "SAVE_DIR = \"../registry/bert/final_model\"",
   "id": "c03fc5db2ffa1b75",
   "outputs": [],
   "execution_count": 2
  },
  {
   "metadata": {
    "ExecuteTime": {
     "end_time": "2025-06-04T07:01:17.664939Z",
     "start_time": "2025-06-04T07:01:17.656718Z"
    }
   },
   "cell_type": "code",
   "source": [
    "def choose_device():\n",
    "    return torch.device(\"cuda\" if torch.cuda.is_available() else \"cpu\")"
   ],
   "id": "6a649d5fba177077",
   "outputs": [],
   "execution_count": 3
  },
  {
   "metadata": {
    "ExecuteTime": {
     "end_time": "2025-06-04T07:01:17.833718Z",
     "start_time": "2025-06-04T07:01:17.675869Z"
    }
   },
   "cell_type": "code",
   "source": [
    "device = choose_device()\n",
    "device"
   ],
   "id": "917cc525d2f079a8",
   "outputs": [
    {
     "data": {
      "text/plain": [
       "device(type='cuda')"
      ]
     },
     "execution_count": 4,
     "metadata": {},
     "output_type": "execute_result"
    }
   ],
   "execution_count": 4
  },
  {
   "metadata": {
    "ExecuteTime": {
     "end_time": "2025-06-04T07:01:21.001022Z",
     "start_time": "2025-06-04T07:01:17.842978Z"
    }
   },
   "cell_type": "code",
   "source": [
    "bert_base = BertModel.from_pretrained(\"bert-base-uncased\")\n",
    "\n",
    "model = DuplicateTextClassifier(bert_model=bert_base)\n",
    "model.load_state_dict(torch.load(f\"{SAVE_DIR}/pytorch_model.bin\", map_location=\"cpu\"))\n",
    "\n",
    "model.eval()\n",
    "model.to(device)\n",
    "\n",
    "tokenizer = BertTokenizer.from_pretrained(SAVE_DIR)"
   ],
   "id": "694296b7e52a2395",
   "outputs": [],
   "execution_count": 5
  },
  {
   "metadata": {
    "ExecuteTime": {
     "end_time": "2025-06-04T07:01:21.165028Z",
     "start_time": "2025-06-04T07:01:21.152015Z"
    }
   },
   "cell_type": "code",
   "source": [
    "def predict_duplicate(question1: str, question2: str) -> float:\n",
    "    threshold = 0.5\n",
    "    model.eval()\n",
    "    with torch.no_grad():\n",
    "        inputs = tokenizer(\n",
    "            question1,\n",
    "            question2,\n",
    "            return_tensors='pt',\n",
    "            padding='max_length',\n",
    "            truncation=True,\n",
    "            max_length=128\n",
    "        ).to(device)\n",
    "\n",
    "        outputs = model(**inputs)\n",
    "        logits = outputs[\"logits\"]\n",
    "        probs = torch.softmax(logits, dim=1)\n",
    "        prob_duplicate = probs[0][1].item()\n",
    "        if prob_duplicate > threshold:\n",
    "            print(\"Duplicate\")\n",
    "        else:\n",
    "            print(\"Not Duplicate\")\n",
    "        return prob_duplicate\n"
   ],
   "id": "c23a6f834595945",
   "outputs": [],
   "execution_count": 6
  },
  {
   "metadata": {
    "ExecuteTime": {
     "end_time": "2025-06-04T07:02:23.860422Z",
     "start_time": "2025-06-04T07:02:22.897969Z"
    }
   },
   "cell_type": "code",
   "source": [
    "q1 = \"How do I learn Python?\"\n",
    "q2 = \"What is the best way to start with Python programming?\"\n",
    "\n",
    "prob = predict_duplicate(q1, q2)\n",
    "print(f\"Duplicate probability: {prob:.4f}\")"
   ],
   "id": "b6fd998c5c2234c6",
   "outputs": [
    {
     "name": "stdout",
     "output_type": "stream",
     "text": [
      "Not Duplicate\n",
      "Duplicate probability: 0.1737\n"
     ]
    }
   ],
   "execution_count": 7
  },
  {
   "metadata": {
    "ExecuteTime": {
     "end_time": "2025-06-04T07:02:31.280953Z",
     "start_time": "2025-06-04T07:02:31.065072Z"
    }
   },
   "cell_type": "code",
   "source": [
    "q1 = \"How can I lose weight?\"\n",
    "q2 = \"What is the best way to reduce body fat?\"\n",
    "prob = predict_duplicate(q1, q2)\n",
    "print(f\"Duplicate probability: {prob:.4f}\")"
   ],
   "id": "940ea87065496999",
   "outputs": [
    {
     "name": "stdout",
     "output_type": "stream",
     "text": [
      "Duplicate\n",
      "Duplicate probability: 0.9616\n"
     ]
    }
   ],
   "execution_count": 8
  },
  {
   "metadata": {
    "ExecuteTime": {
     "end_time": "2025-06-04T07:02:40.602452Z",
     "start_time": "2025-06-04T07:02:40.363338Z"
    }
   },
   "cell_type": "code",
   "source": [
    "q1 = \"How can I learn machine learning?\"\n",
    "q2 = \"What is the best way to study ML?\"\n",
    "prob = predict_duplicate(q1, q2)\n",
    "print(f\"Duplicate probability: {prob:.4f}\")"
   ],
   "id": "fe5615596e1ab7a7",
   "outputs": [
    {
     "name": "stdout",
     "output_type": "stream",
     "text": [
      "Not Duplicate\n",
      "Duplicate probability: 0.0007\n"
     ]
    }
   ],
   "execution_count": 9
  },
  {
   "metadata": {
    "ExecuteTime": {
     "end_time": "2025-06-04T07:04:16.157662Z",
     "start_time": "2025-06-04T07:04:15.872171Z"
    }
   },
   "cell_type": "code",
   "source": [
    "q1 = \"How can I learn machine learning?\"\n",
    "q2 = \"How can I learn machine learning?\"\n",
    "prob = predict_duplicate(q1, q2)\n",
    "print(f\"Duplicate probability: {prob:.4f}\")"
   ],
   "id": "2ff032ca401d356b",
   "outputs": [
    {
     "name": "stdout",
     "output_type": "stream",
     "text": [
      "Duplicate\n",
      "Duplicate probability: 0.9771\n"
     ]
    }
   ],
   "execution_count": 10
  }
 ],
 "metadata": {
  "kernelspec": {
   "display_name": "Python 3",
   "language": "python",
   "name": "python3"
  },
  "language_info": {
   "codemirror_mode": {
    "name": "ipython",
    "version": 2
   },
   "file_extension": ".py",
   "mimetype": "text/x-python",
   "name": "python",
   "nbconvert_exporter": "python",
   "pygments_lexer": "ipython2",
   "version": "2.7.6"
  }
 },
 "nbformat": 4,
 "nbformat_minor": 5
}
